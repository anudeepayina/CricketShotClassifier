{
  "nbformat": 4,
  "nbformat_minor": 0,
  "metadata": {
    "kernelspec": {
      "name": "python36",
      "display_name": "Python 3.6",
      "language": "python"
    },
    "language_info": {
      "mimetype": "text/x-python",
      "nbconvert_exporter": "python",
      "name": "python",
      "pygments_lexer": "ipython3",
      "version": "3.6.6",
      "file_extension": ".py",
      "codemirror_mode": {
        "version": 3,
        "name": "ipython"
      }
    },
    "colab": {
      "name": "Copy of IPL Seasonal Predictions.ipynb",
      "provenance": [],
      "toc_visible": true,
      "include_colab_link": true
    }
  },
  "cells": [
    {
      "cell_type": "markdown",
      "metadata": {
        "id": "view-in-github",
        "colab_type": "text"
      },
      "source": [
        "<a href=\"https://colab.research.google.com/github/anudeepayina/CricketTracker/blob/master/IPL_Seasonal_Predictions.ipynb\" target=\"_parent\"><img src=\"https://colab.research.google.com/assets/colab-badge.svg\" alt=\"Open In Colab\"/></a>"
      ]
    },
    {
      "cell_type": "code",
      "metadata": {
        "trusted": true,
        "id": "Qi50avJjfLza"
      },
      "source": [
        "import pandas as pd\n",
        "import numpy as np\n",
        "from sklearn.model_selection import GridSearchCV\n",
        "from sklearn.ensemble import RandomForestClassifier\n",
        "from sklearn.tree import DecisionTreeClassifier\n",
        "from xgboost import XGBClassifier\n",
        "from sklearn.metrics import accuracy_score"
      ],
      "execution_count": null,
      "outputs": []
    },
    {
      "cell_type": "code",
      "metadata": {
        "trusted": true,
        "id": "xHY1j3jPfLzb"
      },
      "source": [
        "final = pd.read_csv(\"finaldata.csv\")"
      ],
      "execution_count": null,
      "outputs": []
    },
    {
      "cell_type": "markdown",
      "metadata": {
        "id": "HtQWskNifLzo"
      },
      "source": [
        "# 2019 Prediction"
      ]
    },
    {
      "cell_type": "code",
      "metadata": {
        "trusted": true,
        "id": "o4m3clUTfLzp"
      },
      "source": [
        "final_train = final.drop(final.loc[final[\"season\"]==2019].index)\n",
        "final_test = final[final[\"season\"]==2019]\n",
        "x_train = final_train.drop([\"season\",\"winning_team\"],axis=1)\n",
        "x_test = final_test.drop([\"season\",\"winning_team\"],axis=1)\n",
        "y_train = final_train[\"winning_team\"]\n",
        "y_test = final_test[\"winning_team\"]"
      ],
      "execution_count": null,
      "outputs": []
    },
    {
      "cell_type": "markdown",
      "metadata": {
        "id": "IxnqDNrvfLzp"
      },
      "source": [
        "# Random Forest Classifier"
      ]
    },
    {
      "cell_type": "code",
      "metadata": {
        "id": "GQmXkG6KgArb"
      },
      "source": [
        "rf = RandomForestClassifier()"
      ],
      "execution_count": null,
      "outputs": []
    },
    {
      "cell_type": "code",
      "metadata": {
        "trusted": true,
        "id": "n0Vj8iBGfLzp"
      },
      "source": [
        "params = {\"max_depth\": [1,2,3],\n",
        "          \"n_estimators\": [5,10,15,20,70],\n",
        "          \"criterion\": [\"gini\",\"entropy\"],\n",
        "          \"class_weight\": [{1:w} for w in [1.0,1.1,1.2,1.3]]}"
      ],
      "execution_count": null,
      "outputs": []
    },
    {
      "cell_type": "code",
      "metadata": {
        "trusted": true,
        "id": "SKyOCidqfLzp"
      },
      "source": [
        "gridsearch = GridSearchCV(param_grid = params, cv = 3, estimator = rf, scoring = \"roc_auc\",verbose=1,n_jobs=3)"
      ],
      "execution_count": null,
      "outputs": []
    },
    {
      "cell_type": "code",
      "metadata": {
        "trusted": true,
        "id": "KuZ6W1G9fLzp",
        "colab": {
          "base_uri": "https://localhost:8080/"
        },
        "outputId": "b15e2f78-0d8b-4eb0-e345-cf9c30ba00bd"
      },
      "source": [
        "gridsearch.fit(x_train,y_train)\n",
        "print(\"best parameters are:\", gridsearch.best_params_)\n",
        "print(\"best score is:\", gridsearch.best_score_)"
      ],
      "execution_count": null,
      "outputs": [
        {
          "output_type": "stream",
          "text": [
            "Fitting 3 folds for each of 120 candidates, totalling 360 fits\n"
          ],
          "name": "stdout"
        },
        {
          "output_type": "stream",
          "text": [
            "[Parallel(n_jobs=3)]: Using backend LokyBackend with 3 concurrent workers.\n",
            "[Parallel(n_jobs=3)]: Done  58 tasks      | elapsed:    3.7s\n"
          ],
          "name": "stderr"
        },
        {
          "output_type": "stream",
          "text": [
            "best parameters are: {'class_weight': {1: 1.3}, 'criterion': 'gini', 'max_depth': 3, 'n_estimators': 20}\n",
            "best score is: 0.569566424389259\n"
          ],
          "name": "stdout"
        },
        {
          "output_type": "stream",
          "text": [
            "[Parallel(n_jobs=3)]: Done 360 out of 360 | elapsed:   14.0s finished\n"
          ],
          "name": "stderr"
        }
      ]
    },
    {
      "cell_type": "code",
      "metadata": {
        "trusted": true,
        "id": "YT-doPyJfLzp"
      },
      "source": [
        "##Instantiate rf with parameters from above \n",
        "rf = RandomForestClassifier(criterion = \"entropy\", max_depth = 3, n_estimators = 15,random_state=123,class_weight = {1:1.1})"
      ],
      "execution_count": null,
      "outputs": []
    },
    {
      "cell_type": "code",
      "metadata": {
        "trusted": true,
        "id": "gxrovFZ2fLzq"
      },
      "source": [
        "rf.fit(x_train,y_train)\n",
        "yhat = rf.predict(x_test)\n",
        "report_RF = accuracy_score(y_test,yhat)"
      ],
      "execution_count": null,
      "outputs": []
    },
    {
      "cell_type": "markdown",
      "metadata": {
        "id": "F7IdF-lafLzr"
      },
      "source": [
        "# Decision Tree"
      ]
    },
    {
      "cell_type": "code",
      "metadata": {
        "id": "2e3DUf2AgPR0"
      },
      "source": [
        "dt = DecisionTreeClassifier()"
      ],
      "execution_count": null,
      "outputs": []
    },
    {
      "cell_type": "code",
      "metadata": {
        "trusted": true,
        "id": "y5navEJufLzr"
      },
      "source": [
        "params = params = {\"max_depth\": [1,2,3,4],\n",
        "          \"criterion\": [\"entropy\",\"gini\"],\n",
        "          \"splitter\": [\"best\",\"random\"],\n",
        "          \"class_weight\": [{1:w} for w in [1.0,1.1,1.2,1.3]]}"
      ],
      "execution_count": null,
      "outputs": []
    },
    {
      "cell_type": "code",
      "metadata": {
        "trusted": true,
        "id": "cal-QNQBfLzr"
      },
      "source": [
        "gridsearch = gridsearch = GridSearchCV(param_grid = params, estimator = dt, cv = 3, scoring = \"roc_auc\", verbose=1, n_jobs = 3)"
      ],
      "execution_count": null,
      "outputs": []
    },
    {
      "cell_type": "code",
      "metadata": {
        "trusted": true,
        "id": "ogPg0GawfLzr",
        "colab": {
          "base_uri": "https://localhost:8080/"
        },
        "outputId": "320672fc-ff5f-4f96-ec13-18db4256140e"
      },
      "source": [
        "gridsearch.fit(x_train,y_train)\n",
        "print(\"best parameters are:\", gridsearch.best_params_)\n",
        "print(\"best score is:\", gridsearch.best_score_)"
      ],
      "execution_count": null,
      "outputs": [
        {
          "output_type": "stream",
          "text": [
            "Fitting 3 folds for each of 64 candidates, totalling 192 fits\n"
          ],
          "name": "stdout"
        },
        {
          "output_type": "stream",
          "text": [
            "[Parallel(n_jobs=3)]: Using backend LokyBackend with 3 concurrent workers.\n"
          ],
          "name": "stderr"
        },
        {
          "output_type": "stream",
          "text": [
            "best parameters are: {'class_weight': {1: 1.2}, 'criterion': 'entropy', 'max_depth': 4, 'splitter': 'random'}\n",
            "best score is: 0.5289344841510196\n"
          ],
          "name": "stdout"
        },
        {
          "output_type": "stream",
          "text": [
            "[Parallel(n_jobs=3)]: Done 179 tasks      | elapsed:    0.9s\n",
            "[Parallel(n_jobs=3)]: Done 187 out of 192 | elapsed:    0.9s remaining:    0.0s\n",
            "[Parallel(n_jobs=3)]: Done 192 out of 192 | elapsed:    1.0s finished\n"
          ],
          "name": "stderr"
        }
      ]
    },
    {
      "cell_type": "code",
      "metadata": {
        "trusted": true,
        "id": "f3Llt2ktfLzr"
      },
      "source": [
        "#Instantiate classifier with above parameters\n",
        "dt = DecisionTreeClassifier(criterion = \"gini\", max_depth=4, splitter = \"best\",class_weight = {1:1.3})"
      ],
      "execution_count": null,
      "outputs": []
    },
    {
      "cell_type": "code",
      "metadata": {
        "trusted": true,
        "id": "1NtW_FfwfLzs"
      },
      "source": [
        "dt.fit(x_train,y_train)\n",
        "yhat = dt.predict(x_test)\n",
        "report_dt = accuracy_score(y_test,yhat)"
      ],
      "execution_count": null,
      "outputs": []
    },
    {
      "cell_type": "markdown",
      "metadata": {
        "id": "kdv2QaOgfLzs"
      },
      "source": [
        "# XGBClassifier"
      ]
    },
    {
      "cell_type": "code",
      "metadata": {
        "id": "gkTV1YJSgWgF"
      },
      "source": [
        "gbm = XGBClassifier()"
      ],
      "execution_count": null,
      "outputs": []
    },
    {
      "cell_type": "code",
      "metadata": {
        "trusted": true,
        "id": "JqnWIBaVfLzs"
      },
      "source": [
        "param = {\"max_depth\": [1,2,3],\n",
        "         \"learning_rate\": [0.1,0.01,0.001],\n",
        "         \"colsample_bytree\": [0.4,0.5],\n",
        "         \"n_estimators\": [70],\n",
        "         \"reg_lambda\": [4,5],\n",
        "         \"reg_alpha\": [1,2,3]}"
      ],
      "execution_count": null,
      "outputs": []
    },
    {
      "cell_type": "code",
      "metadata": {
        "trusted": true,
        "id": "gjA2XZO-fLzs"
      },
      "source": [
        "gridsearch = GridSearchCV(param_grid = param,estimator=gbm, scoring=\"roc_auc\", cv=4,verbose=1,n_jobs=3)"
      ],
      "execution_count": null,
      "outputs": []
    },
    {
      "cell_type": "code",
      "metadata": {
        "trusted": true,
        "id": "fLBd9bo3fLzs",
        "colab": {
          "base_uri": "https://localhost:8080/"
        },
        "outputId": "e09fad29-4d7b-423e-d657-bf9cc4ca2e87"
      },
      "source": [
        "gridsearch.fit(x_train,y_train)\n",
        "print(\"Best roc_auc score is\", gridsearch.best_score_)\n",
        "print(\"Best parameters are\", gridsearch.best_params_)"
      ],
      "execution_count": null,
      "outputs": [
        {
          "output_type": "stream",
          "text": [
            "Fitting 4 folds for each of 108 candidates, totalling 432 fits\n"
          ],
          "name": "stdout"
        },
        {
          "output_type": "stream",
          "text": [
            "[Parallel(n_jobs=3)]: Using backend LokyBackend with 3 concurrent workers.\n",
            "[Parallel(n_jobs=3)]: Done  82 tasks      | elapsed:    2.8s\n",
            "[Parallel(n_jobs=3)]: Done 382 tasks      | elapsed:   12.9s\n"
          ],
          "name": "stderr"
        },
        {
          "output_type": "stream",
          "text": [
            "Best roc_auc score is 0.6174688273166892\n",
            "Best parameters are {'colsample_bytree': 0.4, 'learning_rate': 0.1, 'max_depth': 3, 'n_estimators': 70, 'reg_alpha': 1, 'reg_lambda': 4}\n"
          ],
          "name": "stdout"
        },
        {
          "output_type": "stream",
          "text": [
            "[Parallel(n_jobs=3)]: Done 432 out of 432 | elapsed:   14.7s finished\n"
          ],
          "name": "stderr"
        }
      ]
    },
    {
      "cell_type": "code",
      "metadata": {
        "trusted": true,
        "id": "3k3znkeCfLzs"
      },
      "source": [
        "gbm = XGBClassifier(colsample_bytree=0.5,learning_rate=0.1,max_depth=3,n_estimators=70,reg_aplha=2,reg_lambda=5,objective=\"binary:hinge\",verbose=1)"
      ],
      "execution_count": null,
      "outputs": []
    },
    {
      "cell_type": "code",
      "metadata": {
        "trusted": true,
        "id": "-g6VcKwrfLzt"
      },
      "source": [
        "gbm.fit(x_train,y_train)\n",
        "yhat = gbm.predict(x_test)\n",
        "report_xgb = accuracy_score(y_test,yhat)"
      ],
      "execution_count": null,
      "outputs": []
    },
    {
      "cell_type": "code",
      "metadata": {
        "trusted": true,
        "id": "gn5UJODFfLzt",
        "colab": {
          "base_uri": "https://localhost:8080/",
          "height": 79
        },
        "outputId": "020eb5d6-e847-4696-ce80-75f9bce62024"
      },
      "source": [
        "scores = [report_RF,report_dt,report_xgb]\n",
        "\n",
        "final_results = pd.DataFrame(scores).transpose()\n",
        "final_results.columns=[\"Random Forest\", \"Decision Tree Classifier\", \"XGBClassifer\"]\n",
        "final_results.head()"
      ],
      "execution_count": null,
      "outputs": [
        {
          "output_type": "execute_result",
          "data": {
            "text/html": [
              "<div>\n",
              "<style scoped>\n",
              "    .dataframe tbody tr th:only-of-type {\n",
              "        vertical-align: middle;\n",
              "    }\n",
              "\n",
              "    .dataframe tbody tr th {\n",
              "        vertical-align: top;\n",
              "    }\n",
              "\n",
              "    .dataframe thead th {\n",
              "        text-align: right;\n",
              "    }\n",
              "</style>\n",
              "<table border=\"1\" class=\"dataframe\">\n",
              "  <thead>\n",
              "    <tr style=\"text-align: right;\">\n",
              "      <th></th>\n",
              "      <th>Random Forest</th>\n",
              "      <th>Decision Tree Classifier</th>\n",
              "      <th>XGBClassifer</th>\n",
              "    </tr>\n",
              "  </thead>\n",
              "  <tbody>\n",
              "    <tr>\n",
              "      <th>0</th>\n",
              "      <td>0.644068</td>\n",
              "      <td>0.627119</td>\n",
              "      <td>0.627119</td>\n",
              "    </tr>\n",
              "  </tbody>\n",
              "</table>\n",
              "</div>"
            ],
            "text/plain": [
              "   Random Forest  Decision Tree Classifier  XGBClassifer\n",
              "0       0.644068                  0.627119      0.627119"
            ]
          },
          "metadata": {
            "tags": []
          },
          "execution_count": 40
        }
      ]
    }
  ]
}